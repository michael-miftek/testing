{
 "cells": [
  {
   "cell_type": "code",
   "execution_count": 1,
   "metadata": {},
   "outputs": [],
   "source": [
    "from proto import schema_pb2, shared_pb2, command_pb2\n",
    "from google.protobuf import text_format"
   ]
  },
  {
   "cell_type": "code",
   "execution_count": 27,
   "metadata": {},
   "outputs": [
    {
     "name": "stdout",
     "output_type": "stream",
     "text": [
      "Hello\n",
      " \tthis is binary of 8: 1000\n"
     ]
    }
   ],
   "source": [
    "num = 8\n",
    "tempstr = (f\"Hello\\n \\tthis is binary of 8: {bin(num)[2:]}\")\n",
    "print(tempstr)"
   ]
  },
  {
   "cell_type": "code",
   "execution_count": 15,
   "metadata": {},
   "outputs": [
    {
     "name": "stdout",
     "output_type": "stream",
     "text": [
      "hm: \n",
      "settings: \n"
     ]
    }
   ],
   "source": [
    "hm = schema_pb2.HostMessage()\n",
    "print(f\"hm: {hm}\")\n",
    "settings = shared_pb2.Settings()\n",
    "print(f\"settings: {settings}\")"
   ]
  },
  {
   "cell_type": "code",
   "execution_count": 16,
   "metadata": {},
   "outputs": [
    {
     "name": "stdout",
     "output_type": "stream",
     "text": [
      "module_enable: true\n",
      "module_enable: true\n",
      "module_enable: true\n",
      "module_enable: true\n",
      "module_enable: true\n",
      "module_enable: true\n",
      "module_enable: true\n",
      "module_enable: true\n",
      "report_period: 1000\n",
      "\n"
     ]
    }
   ],
   "source": [
    "# settings.module_enable = [1,1,1,1,1,1,1,1]\n",
    "settings.module_enable.extend([1 for _ in range(8)])\n",
    "settings.trace_level = 0\n",
    "settings.report_period = 1000\n",
    "print(settings)"
   ]
  },
  {
   "cell_type": "code",
   "execution_count": 23,
   "metadata": {},
   "outputs": [
    {
     "name": "stdout",
     "output_type": "stream",
     "text": [
      "command {\n",
      "  apply {\n",
      "    settings {\n",
      "      module_enable: true\n",
      "      module_enable: true\n",
      "      module_enable: true\n",
      "      module_enable: true\n",
      "      module_enable: true\n",
      "      module_enable: true\n",
      "      module_enable: true\n",
      "      module_enable: true\n",
      "    }\n",
      "  }\n",
      "}\n",
      "\n"
     ]
    }
   ],
   "source": [
    "hm.command.apply.settings.CopyFrom(settings)\n",
    "print(hm)"
   ]
  },
  {
   "cell_type": "code",
   "execution_count": 40,
   "metadata": {},
   "outputs": [
    {
     "name": "stdout",
     "output_type": "stream",
     "text": [
      "settings: \n",
      "[1, 1, 1, 1, 1, 1, 1, 1]\n",
      "Start\n",
      "\t1.1.1.1.1.1.1.1\n",
      "\t[1.1.1.1.1.1.1.1]\n",
      "module_enable: true\n",
      "module_enable: true\n",
      "module_enable: true\n",
      "module_enable: true\n",
      "module_enable: true\n",
      "module_enable: true\n",
      "module_enable: true\n",
      "module_enable: true\n",
      "\n"
     ]
    }
   ],
   "source": [
    "settings = shared_pb2.Settings()\n",
    "print(f\"settings: {settings}\")\n",
    "\n",
    "testarr = [1 for _ in range(8)]\n",
    "print(testarr)\n",
    "# log = \"Start\\n\"\n",
    "# log += f\"\\t{str(testarr).replace(\" \", \"\").replace(\",\",\".\").replace('[', '').replace(']', '')}\\n\"\n",
    "print(str(testarr).replace(\" \", \"\").replace(\",\",\".\").replace('[', '').replace(']', ''))\n",
    "# log += f\"\\t{str(testarr).replace(\" \", \"\").replace(\",\",\".\")}\"\n",
    "# print(log)\n",
    "\n",
    "settings.module_enable.extend(testarr)\n",
    "print(settings)"
   ]
  },
  {
   "cell_type": "code",
   "execution_count": null,
   "metadata": {},
   "outputs": [],
   "source": []
  }
 ],
 "metadata": {
  "kernelspec": {
   "display_name": "Python 3",
   "language": "python",
   "name": "python3"
  },
  "language_info": {
   "codemirror_mode": {
    "name": "ipython",
    "version": 3
   },
   "file_extension": ".py",
   "mimetype": "text/x-python",
   "name": "python",
   "nbconvert_exporter": "python",
   "pygments_lexer": "ipython3",
   "version": "3.12.2"
  }
 },
 "nbformat": 4,
 "nbformat_minor": 2
}
