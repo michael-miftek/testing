{
 "cells": [
  {
   "cell_type": "code",
   "execution_count": 1,
   "metadata": {},
   "outputs": [],
   "source": [
    "import pymongo\n",
    "from pymongo import UpdateOne, UpdateMany\n",
    "import time\n",
    "import numpy as np\n",
    "import matplotlib.pyplot as plt\n",
    "from multiprocessing.pool import ThreadPool as pool\n",
    "\n",
    "p = pool(5)\n",
    "\n",
    "\n",
    "\n",
    "def write_bulk(obj):\n",
    "    obj[0].bulk_write([UpdateMany({'channel' : f'{t}'}, {'$set': {f'{t}': obj[1][t][f'{t}'] + obj[2][:,t].tolist()}}) for t in range(48)])\n",
    "\n",
    "\n",
    "#Must call this every time after a close event\n",
    "myclient = pymongo.MongoClient(\"mongodb://localhost:27017/\")\n",
    "mydb = myclient[\"mydatabase\"]\n",
    "try:\n",
    "    peak = mydb.create_collection(\"adc_peak\")\n",
    "    area = mydb.create_collection(\"adc_area\")\n",
    "    width = mydb.create_collection(\"adc_width\")\n",
    "    cttot = mydb.create_collection(\"photon_total\")\n",
    "except:\n",
    "    pass\n",
    "\n",
    "adc_peak_base = np.array([[47103.0, 33995.0, 35008.0, 36028.0, 35592.0, 34896.0, 50403.0, 36451.0, 33803.0, 34923.0, 34888.0, 34913.0, 47103.0, 33995.0, 35008.0, 36028.0, 35592.0, 34896.0, 50403.0, 36451.0, 33803.0, 34923.0, 34888.0, 34913.0, 47103.0, 33995.0, 35008.0, 36028.0, 35592.0, 34896.0, 50403.0, 36451.0, 33803.0, 34923.0, 34888.0, 34913.0, 47103.0, 33995.0, 35008.0, 36028.0, 35592.0, 34896.0, 50403.0, 36451.0, 33803.0, 34923.0, 34888.0, 34913.0] for z in range(2)])\n",
    "adc_area_base = np.array([[1.2949853832322904, 1.7600154426395034, 1.4558833434363845, 1.4272641537237334, 1.616168024003429, 1.773990085278409, 1.115419803392102, 1.0411269060841692, 1.2650121808810502, 1.4290298944300492, 1.6004416530442513, 1.750695021638818, 1.2949853832322904, 1.7600154426395034, 1.4558833434363845, 1.4272641537237334, 1.616168024003429, 1.773990085278409, 1.115419803392102, 1.0411269060841692, 1.2650121808810502, 1.4290298944300492, 1.6004416530442513, 1.750695021638818, 1.2949853832322904, 1.7600154426395034, 1.4558833434363845, 1.4272641537237334, 1.616168024003429, 1.773990085278409, 1.115419803392102, 1.0411269060841692, 1.2650121808810502, 1.4290298944300492, 1.6004416530442513, 1.750695021638818, 1.2949853832322904, 1.7600154426395034, 1.4558833434363845, 1.4272641537237334, 1.616168024003429, 1.773990085278409, 1.115419803392102, 1.0411269060841692, 1.2650121808810502, 1.4290298944300492, 1.6004416530442513, 1.750695021638818] for z in range(2)])\n",
    "adc_width_base = np.array([[84, 4, 7, 8, 5, 4, 28, 193, 12, 7, 5, 4, 84, 4, 7, 8, 5, 4, 28, 193, 12, 7, 5, 4, 84, 4, 7, 8, 5, 4, 28, 193, 12, 7, 5, 4, 84, 4, 7, 8, 5, 4, 28, 193, 12, 7, 5, 4] for z in range(2)])\n",
    "count_total_base = np.array([[2739, 9, 202, 0, 0, 0, 0, 0, 0, 0, 0, 0, 2739, 9, 202, 0, 0, 0, 0, 0, 0, 0, 0, 0, 2739, 9, 202, 0, 0, 0, 0, 0, 0, 0, 0, 0, 2739, 9, 202, 0, 0, 0, 0, 0, 0, 0, 0, 0] for z in range(2)]) \n",
    "peak_cursor = peak.find()\n",
    "area_cursor = area.find()\n",
    "width_cursor = width.find()\n",
    "count_cursor = cttot.find()\n",
    "manytimeset = []\n",
    "\n",
    "collection = [peak, area, width, cttot]\n",
    "cursor = [peak_cursor, area_cursor, width_cursor, count_cursor]\n",
    "# try:\n",
    "# for ct in range(2,70000,10):\n",
    "for ct in range(2,5):\n",
    "    #Setup the array to be the size we want 2 - 70000\n",
    "    adc_peak = np.array([[47103.0, 33995.0, 35008.0, 36028.0, 35592.0, 34896.0, 50403.0, 36451.0, 33803.0, 34923.0, 34888.0, 34913.0, 47103.0, 33995.0, 35008.0, 36028.0, 35592.0, 34896.0, 50403.0, 36451.0, 33803.0, 34923.0, 34888.0, 34913.0, 47103.0, 33995.0, 35008.0, 36028.0, 35592.0, 34896.0, 50403.0, 36451.0, 33803.0, 34923.0, 34888.0, 34913.0, 47103.0, 33995.0, 35008.0, 36028.0, 35592.0, 34896.0, 50403.0, 36451.0, 33803.0, 34923.0, 34888.0, 34913.0] for t in range(ct)])\n",
    "    adc_area = np.array([[1.2949853832322904, 1.7600154426395034, 1.4558833434363845, 1.4272641537237334, 1.616168024003429, 1.773990085278409, 1.115419803392102, 1.0411269060841692, 1.2650121808810502, 1.4290298944300492, 1.6004416530442513, 1.750695021638818, 1.2949853832322904, 1.7600154426395034, 1.4558833434363845, 1.4272641537237334, 1.616168024003429, 1.773990085278409, 1.115419803392102, 1.0411269060841692, 1.2650121808810502, 1.4290298944300492, 1.6004416530442513, 1.750695021638818, 1.2949853832322904, 1.7600154426395034, 1.4558833434363845, 1.4272641537237334, 1.616168024003429, 1.773990085278409, 1.115419803392102, 1.0411269060841692, 1.2650121808810502, 1.4290298944300492, 1.6004416530442513, 1.750695021638818, 1.2949853832322904, 1.7600154426395034, 1.4558833434363845, 1.4272641537237334, 1.616168024003429, 1.773990085278409, 1.115419803392102, 1.0411269060841692, 1.2650121808810502, 1.4290298944300492, 1.6004416530442513, 1.750695021638818] for t in range(ct)])\n",
    "    adc_width = np.array([[84, 4, 7, 8, 5, 4, 28, 193, 12, 7, 5, 4, 84, 4, 7, 8, 5, 4, 28, 193, 12, 7, 5, 4, 84, 4, 7, 8, 5, 4, 28, 193, 12, 7, 5, 4, 84, 4, 7, 8, 5, 4, 28, 193, 12, 7, 5, 4] for t in range(ct)])\n",
    "    count_total = np.array([[2739, 9, 202, 0, 0, 0, 0, 0, 0, 0, 0, 0, 2739, 9, 202, 0, 0, 0, 0, 0, 0, 0, 0, 0, 2739, 9, 202, 0, 0, 0, 0, 0, 0, 0, 0, 0, 2739, 9, 202, 0, 0, 0, 0, 0, 0, 0, 0, 0] for t in range(ct)]) \n",
    "\n",
    "    #Put the intial array into the database, we are wiping each collection every loop so this will not be taken into account with the stats\n",
    "    _ = mydb.adc_peak.insert_many({'channel' : f'{p}', f'{p}' : adc_peak_base[:,p].tolist()} for p in range(48))\n",
    "    _ = mydb.adc_area.insert_many({'channel' : f'{p}', f'{p}' : adc_area_base[:,p].tolist()} for p in range(48))\n",
    "    _ = mydb.adc_width.insert_many({'channel' : f'{p}', f'{p}' : adc_width_base[:,p].tolist()} for p in range(48))\n",
    "    _ = mydb.photon_total.insert_many({'channel' : f'{p}', f'{p}' : count_total_base[:,p].tolist()} for p in range(48))\n",
    "\n",
    "    #NOTE: There is no way to get away from doing it like this because we need to update the individual document not \n",
    "    start = time.time()\n",
    "    p.map(write_bulk, [[peak, peak_cursor, adc_peak],[area, area_cursor, adc_area],[width, width_cursor, adc_width],[cttot, count_cursor, count_total],])\n",
    "    # peak.bulk_write([UpdateMany({'channel' : f'peak {t}'}, {'$set': {f'{t}': peak_cursor[t][f'{t}'] + adc_peak[:,t].tolist()}}) for t in range(48)])\n",
    "    # area.bulk_write([UpdateMany({'channel' : f'area {t}'}, {'$set': {f'{t}': area_cursor[t][f'{t}'] + adc_area[:,t].tolist()}}) for t in range(48)])\n",
    "    # width.bulk_write([UpdateMany({'channel' : f'width {t}'}, {'$set': {f'{t}': width_cursor[t][f'{t}'] + adc_width[:,t].tolist()}}) for t in range(48)])\n",
    "    # cttot.bulk_write([UpdateMany({'channel' : f'count {t}'}, {'$set': {f'{t}': count_cursor[t][f'{t}'] + count_total[:,t].tolist()}}) for t in range(48)])#this works\n",
    "    end = time.time()\n",
    "    manytimeset.append(end-start)\n",
    "\n",
    "    peak.delete_many({})\n",
    "    area.delete_many({})\n",
    "    width.delete_many({})\n",
    "    cttot.delete_many({})\n",
    "\n",
    "\n",
    "mydb.drop_collection(peak)\n",
    "mydb.drop_collection(area)\n",
    "mydb.drop_collection(width)\n",
    "mydb.drop_collection(cttot)\n",
    "myclient.close()"
   ]
  },
  {
   "cell_type": "code",
   "execution_count": 2,
   "metadata": {},
   "outputs": [
    {
     "name": "stdout",
     "output_type": "stream",
     "text": [
      "[0.05299973487854004, 0.051998138427734375, 0.051999568939208984]\n"
     ]
    }
   ],
   "source": [
    "print(manytimeset)"
   ]
  }
 ],
 "metadata": {
  "kernelspec": {
   "display_name": "Python 3",
   "language": "python",
   "name": "python3"
  },
  "language_info": {
   "codemirror_mode": {
    "name": "ipython",
    "version": 3
   },
   "file_extension": ".py",
   "mimetype": "text/x-python",
   "name": "python",
   "nbconvert_exporter": "python",
   "pygments_lexer": "ipython3",
   "version": "3.11.4"
  }
 },
 "nbformat": 4,
 "nbformat_minor": 2
}
