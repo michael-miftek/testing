{
 "cells": [
  {
   "cell_type": "code",
   "execution_count": null,
   "metadata": {},
   "outputs": [],
   "source": [
    "import os\n",
    "import pickle\n",
    "def make_index(file):\n",
    "    origins = []\n",
    "    current_origin = 0\n",
    "\n",
    "    original_position = file.tell()\n",
    "    file.seek(0)\n",
    "\n",
    "    while True:\n",
    "        try:\n",
    "            pickle.load(file)\n",
    "            origins.append(current_origin)\n",
    "            current_origin = file.tell()\n",
    "        except EOFError:\n",
    "            break\n",
    "        except Exception as e:\n",
    "            print(f\"Exception: {e} in daqfile initializing index of file\")\n",
    "\n",
    "    #print(f\"Make index {type(file)}\")\n",
    "    file.seek(original_position)\n",
    "\n",
    "    return origins\n",
    "\n",
    "\n",
    "filename = 'fixedWhiteBloodCellsShort.npy'\n",
    "\n",
    "try:\n",
    "    file = open(filename, 'r+b')\n",
    "except Exception as e:\n",
    "    print(f\"Exception: {e} in daqfile for playback\")\n",
    "    raise\n",
    "\n",
    "origins = make_index(file)"
   ]
  },
  {
   "cell_type": "code",
   "execution_count": null,
   "metadata": {},
   "outputs": [],
   "source": [
    "#COUNT\n",
    "if(origins is None):\n",
    "    raise Exception(\"Daqfile: file has not been initialized\")\n",
    "len(origins)"
   ]
  },
  {
   "cell_type": "code",
   "execution_count": null,
   "metadata": {},
   "outputs": [],
   "source": [
    "#GET\n",
    "# file.seek(origins[0])\n",
    "# packet = pickle.load(file)\n",
    "data = []\n",
    "for i in range(6):\n",
    "    file.seek(origins[i])\n",
    "    packet = pickle.load(file)\n",
    "    data.append(packet['event']['data']['adc_data'])"
   ]
  },
  {
   "cell_type": "code",
   "execution_count": null,
   "metadata": {},
   "outputs": [],
   "source": []
  },
  {
   "cell_type": "code",
   "execution_count": null,
   "metadata": {},
   "outputs": [],
   "source": [
    "# packet = file.get(record_n)\n",
    "data1 = packet['event']['data']['adc_data']\n",
    "print(data1)"
   ]
  },
  {
   "cell_type": "markdown",
   "metadata": {},
   "source": [
    "Comparing with Valery Software\n",
    "\n",
    "Numbers to match or get close to\\\n",
    "471476.88671875 \\\n",
    "717160.87109375 \\\n",
    "726431.96484375 \\\n",
    "742656.37890625 \\\n",
    "744974.15234375 \\\n",
    "1062509.11328125 \\\n",
    "Median gets closest so far\n"
   ]
  },
  {
   "cell_type": "code",
   "execution_count": null,
   "metadata": {},
   "outputs": [],
   "source": [
    "import torch\n",
    "import time\n",
    "import numpy as np\n",
    "from scipy.signal import savgol_filter\n",
    "import matplotlib.pyplot as plt\n",
    "\n",
    "\n",
    "if torch.cuda.is_available():\n",
    "    print(f\"GPU: {torch.cuda.get_device_name(0)} is available.\")\n",
    "else:\n",
    "    print(\"No GPU available. Training will run on CPU.\")\n",
    "    \n",
    "device = torch.device(\"cuda\" if torch.cuda.is_available() else \"cpu\")\n",
    "\n",
    "for i in range(6):\n",
    "    bigarr1 = torch.from_numpy(data[i].astype(float)).to(device)\n",
    "    # bigarr1 = torch.from_numpy(savgol_filter(data[i], window_length=int(len(data[i][0])/10), polyorder=1, axis=1).astype(float)).to(device)\n",
    "\n",
    "    # a1 = torch.std_mean(bigarr1, dim=0, keepdim=True)\n",
    "    a1 = torch.std(bigarr1, dim=0, keepdim=True)\n",
    "    b1 = torch.mean(bigarr1, dim=0).to(device)\n",
    "    #Height\n",
    "    e1 = (bigarr1.amax(dim=0) - bigarr1.amin(dim=0)).to(device)\n",
    "    # e1 = (bigarr1.amax(dim=1).to(device) - bigarr1.amin(dim=1).to(device)) \n",
    "    # f1 = (bigarr1.lt(b1 - (a1*0.3)) * bigarr1).to(device)\n",
    "    f1 = (bigarr1.lt(b1) * bigarr1).to(device)\n",
    "    #WITDH\n",
    "    g1 = f1.count_nonzero(dim=0).to(device)\n",
    "    #AREA\n",
    "    h1 = ((b1 * g1) - f1.sum(dim=0)).to(device)\n",
    "\n",
    "    # print(a1)\n",
    "    print(\"Height\")\n",
    "    print(e1.cpu().tolist())\n",
    "    print(\"Width\")\n",
    "    print(g1.cpu().tolist())\n",
    "    print(\"Area\")\n",
    "    print(h1.cpu().tolist())"
   ]
  },
  {
   "cell_type": "code",
   "execution_count": null,
   "metadata": {},
   "outputs": [],
   "source": [
    "import torch\n",
    "import time\n",
    "import numpy as np\n",
    "from scipy.signal import savgol_filter\n",
    "import matplotlib.pyplot as plt\n",
    "\n",
    "\n",
    "if torch.cuda.is_available():\n",
    "    print(f\"GPU: {torch.cuda.get_device_name(0)} is available.\")\n",
    "else:\n",
    "    print(\"No GPU available. Training will run on CPU.\")\n",
    "    \n",
    "device = torch.device(\"cuda\" if torch.cuda.is_available() else \"cpu\")\n",
    "for i in range(6):\n",
    "    bigarr1 = torch.from_numpy(data[i].astype(float)).to(device)\n",
    "    # bigarr1 = torch.from_numpy(savgol_filter(data[i], window_length=int(data[i][0].__len__()/10), polyorder=1, axis=1).astype(float)).to(device)\n",
    "\n",
    "    a1 = torch.std(bigarr1, dim=0, keepdim=True).to(device)\n",
    "    b1 = torch.median(bigarr1, dim=0)\n",
    "    e1 = (bigarr1.amax(dim=0) - bigarr1.amin(dim=0)).to(device)\n",
    "    # e1 = (bigarr1.amax(dim=1).to(device) - bigarr1.amin(dim=1).to(device)) \n",
    "    f1 = (bigarr1.lt(b1[0]) * bigarr1).to(device)\n",
    "    #WITDH\n",
    "    g1 = f1.count_nonzero(dim=0).to(device)\n",
    "    #AREA\n",
    "    h1 = (((b1[0]) * g1) - f1.sum(dim=0)).to(device)\n",
    "\n",
    "    # print(a1)\n",
    "    print(\"Height\")\n",
    "    print(e1.cpu().tolist())\n",
    "    print(\"Width\")\n",
    "    print(g1.cpu().tolist())\n",
    "    print(\"Area\")\n",
    "    print(h1.cpu().tolist())"
   ]
  },
  {
   "cell_type": "code",
   "execution_count": 3,
   "metadata": {},
   "outputs": [
    {
     "name": "stdout",
     "output_type": "stream",
     "text": [
      "[1, 2, 3, 4, 5, 6, 8]\n"
     ]
    }
   ],
   "source": [
    "a = [1,2,3,4,5,6,7,8,9]\n",
    "del(a[-1])\n",
    "del(a[-2])\n",
    "print(a)"
   ]
  },
  {
   "cell_type": "code",
   "execution_count": 5,
   "metadata": {},
   "outputs": [],
   "source": [
    "WRITE = False\n",
    "WRITE = False if WRITE else True\n",
    "print(WRITE)"
   ]
  },
  {
   "cell_type": "code",
   "execution_count": 4,
   "metadata": {},
   "outputs": [
    {
     "name": "stdout",
     "output_type": "stream",
     "text": [
      "[1.00000000e+00 2.33572147e+00 5.45559478e+00 1.27427499e+01\n",
      " 2.97635144e+01 6.95192796e+01 1.62377674e+02 3.79269019e+02\n",
      " 8.85866790e+02 2.06913808e+03 4.83293024e+03 1.12883789e+04\n",
      " 2.63665090e+04 6.15848211e+04 1.43844989e+05 3.35981829e+05\n",
      " 7.84759970e+05 1.83298071e+06 4.28133240e+06 1.00000000e+07]\n"
     ]
    }
   ],
   "source": [
    "import numpy as np\n",
    "\n",
    "scale = np.logspace(start=0, stop=7, num = 20)\n",
    "print(scale)"
   ]
  }
 ],
 "metadata": {
  "kernelspec": {
   "display_name": "Python 3",
   "language": "python",
   "name": "python3"
  },
  "language_info": {
   "codemirror_mode": {
    "name": "ipython",
    "version": 3
   },
   "file_extension": ".py",
   "mimetype": "text/x-python",
   "name": "python",
   "nbconvert_exporter": "python",
   "pygments_lexer": "ipython3",
   "version": "3.11.4"
  }
 },
 "nbformat": 4,
 "nbformat_minor": 2
}
