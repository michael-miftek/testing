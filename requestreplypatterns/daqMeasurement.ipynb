{
 "cells": [
  {
   "cell_type": "markdown",
   "metadata": {},
   "source": [
    "All time here is in microseconds (um) or 1000000 is 1 second, sys.getsizeof() returns the size of an item in bytes including the garbage collector if it has one"
   ]
  },
  {
   "cell_type": "code",
   "execution_count": 7,
   "metadata": {},
   "outputs": [
    {
     "name": "stdout",
     "output_type": "stream",
     "text": [
      "adc_data: 30790 size of x: 26 size in bytes in python\n",
      "count_data: 1 size of y: 25 size in bytes in python\n",
      "total size of adc_data(1250 pts per event): 32500\n",
      "total size of count_data(2500 pts per event): 62500\n",
      "moving forward we are going to use pure C calculations for memory since that is what is being sent\n",
      "\n",
      "\n",
      "mircoseconds between events1 29000\n",
      "mircoseconds between events2 12000\n",
      "mircoseconds between events3 6000\n",
      "mircoseconds between events4 21000\n",
      "mircoseconds between events5 5000\n",
      "mircoseconds between events6 14000\n",
      "mircoseconds between events7 59001\n",
      "mircoseconds between events8 6000\n",
      "mircoseconds between events9 5000\n",
      "mircoseconds between events10 0\n",
      "\n",
      "\n",
      "Calculations with inferences\n",
      "total time ellapsed in 10 frames is 157001 the average is 15700.1\n",
      "average number of events per second: 63.0\n",
      "adc_data is of type uint16 which is 2 bytes per element 2500\n",
      "count_data is of type uint16 which is 1 bytes per element 2500\n",
      "total bytes sent per event is 5000 bytes per frame from the daq\n",
      "that corresponds to 40000 bits per event\n",
      "total amount of data that can be sent on average 2520000.0 bits per second\n",
      "portion of what we send vs our capacity 0.000252 for one daq\n"
     ]
    }
   ],
   "source": [
    "import sys\n",
    "import numpy as np\n",
    "x = np.uint16(30790)\n",
    "y = np.uint8(1)\n",
    "print(f\"adc_data: {x} size of x: {sys.getsizeof(x)} size in bytes in python\")\n",
    "print(f\"count_data: {y} size of y: {sys.getsizeof(y)} size in bytes in python\")\n",
    "print(f\"total size of adc_data(1250 pts per event): {sys.getsizeof(x) * 1250}\")\n",
    "print(f\"total size of count_data(2500 pts per event): {sys.getsizeof(y) * 2500}\")\n",
    "print(\"moving forward we are going to use pure C calculations for memory since that is what is being sent\\n\\n\")\n",
    "\n",
    "print(f\"mircoseconds between events1 {497529 - 468529}\")\n",
    "print(f\"mircoseconds between events2 {509529 - 497529}\")\n",
    "print(f\"mircoseconds between events3 {515529 - 509529}\")\n",
    "print(f\"mircoseconds between events4 {536529 - 515529}\")\n",
    "print(f\"mircoseconds between events5 {541529 - 536529}\")\n",
    "print(f\"mircoseconds between events6 {555529 - 541529}\")\n",
    "print(f\"mircoseconds between events7 {614530 - 555529}\")\n",
    "print(f\"mircoseconds between events8 {620530 - 614530}\")\n",
    "print(f\"mircoseconds between events9 {625530 - 620530}\")\n",
    "print(f\"mircoseconds between events10 {625530 - 625530}\")   #### HUH???\n",
    "\n",
    "t = [\n",
    "29000,\n",
    "12000,\n",
    "6000,\n",
    "21000,\n",
    "5000,\n",
    "14000,\n",
    "59001,\n",
    "6000,\n",
    "5000]\n",
    "#0\n",
    "tot = 0\n",
    "for i in t:\n",
    "    tot += i\n",
    "\n",
    "avgtime = tot/10\n",
    "numeventspersecondavg = 1000000 // avgtime\n",
    "\n",
    "eventuint16size = 2 * 1250\n",
    "eventuint8size = 1 * 2500\n",
    "totaleventsize = eventuint16size + eventuint8size\n",
    "totaleventsizebits = totaleventsize * 8\n",
    "\n",
    "print(\"\\n\\nCalculations with inferences\")\n",
    "print(f\"total time ellapsed in {10} frames is {tot} the average is {avgtime}\")\n",
    "print(f\"average number of events per second: {numeventspersecondavg}\")\n",
    "print(f\"adc_data is of type uint16 which is 2 bytes per element {eventuint16size}\")\n",
    "print(f\"count_data is of type uint16 which is 1 bytes per element {eventuint8size}\")\n",
    "print(f\"total bytes sent per event is {totaleventsize} bytes per frame from the daq\")\n",
    "print(f\"that corresponds to {totaleventsizebits} bits per event\")\n",
    "print(f\"total amount of data that can be sent on average {totaleventsizebits * numeventspersecondavg} bits per second\")\n",
    "print(f\"portion of what we send vs our capacity {(totaleventsizebits * numeventspersecondavg)/ 10000000000} for one daq\")\n"
   ]
  }
 ],
 "metadata": {
  "kernelspec": {
   "display_name": "Python 3",
   "language": "python",
   "name": "python3"
  },
  "language_info": {
   "codemirror_mode": {
    "name": "ipython",
    "version": 3
   },
   "file_extension": ".py",
   "mimetype": "text/x-python",
   "name": "python",
   "nbconvert_exporter": "python",
   "pygments_lexer": "ipython3",
   "version": "3.12.2"
  }
 },
 "nbformat": 4,
 "nbformat_minor": 2
}
