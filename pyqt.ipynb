{
 "cells": [
  {
   "cell_type": "code",
   "execution_count": null,
   "metadata": {},
   "outputs": [
    {
     "ename": "",
     "evalue": "",
     "output_type": "error",
     "traceback": [
      "\u001b[1;31mThe Kernel crashed while executing code in the current cell or a previous cell. \n",
      "\u001b[1;31mPlease review the code in the cell(s) to identify a possible cause of the failure. \n",
      "\u001b[1;31mClick <a href='https://aka.ms/vscodeJupyterKernelCrash'>here</a> for more info. \n",
      "\u001b[1;31mView Jupyter <a href='command:jupyter.viewOutput'>log</a> for further details."
     ]
    }
   ],
   "source": [
    "import sys\n",
    "from PyQt6.QtWidgets import QApplication, QMainWindow, QDockWidget, QWidget, QVBoxLayout, QScrollArea\n",
    "\n",
    "class MainWindow(QMainWindow):\n",
    "    def __init__(self):\n",
    "        super().__init__()\n",
    "\n",
    "        self.setWindowTitle(\"Dock Widgets in Scroll Area\")\n",
    "\n",
    "        # Create a central widget for the main window\n",
    "        central_widget = QWidget()\n",
    "        self.setCentralWidget(central_widget)\n",
    "\n",
    "        # Create a layout for the central widget\n",
    "        layout = QVBoxLayout(central_widget)\n",
    "\n",
    "        # Create a scroll area\n",
    "        scroll_area = QScrollArea()\n",
    "        layout.addWidget(scroll_area)\n",
    "\n",
    "        # Create a widget to hold the dock widgets\n",
    "        dock_widget_container = QWidget()\n",
    "        scroll_area.setWidget(dock_widget_container)\n",
    "\n",
    "        # Create a layout for the dock widget container\n",
    "        dock_layout = QVBoxLayout(dock_widget_container)\n",
    "\n",
    "        # Add some dock widgets\n",
    "        for i in range(5):\n",
    "            dock_widget = QDockWidget(f\"Dock Widget {i + 1}\")\n",
    "            dock_widget.setWidget(QWidget())\n",
    "            dock_layout.addWidget(dock_widget)\n",
    "\n",
    "if __name__ == \"__main__\":\n",
    "    app = QApplication(sys.argv)\n",
    "    window = MainWindow()\n",
    "    window.show()\n",
    "    sys.exit(app.exec())"
   ]
  }
 ],
 "metadata": {
  "kernelspec": {
   "display_name": "Python 3",
   "language": "python",
   "name": "python3"
  },
  "language_info": {
   "codemirror_mode": {
    "name": "ipython",
    "version": 3
   },
   "file_extension": ".py",
   "mimetype": "text/x-python",
   "name": "python",
   "nbconvert_exporter": "python",
   "pygments_lexer": "ipython3",
   "version": "3.11.4"
  }
 },
 "nbformat": 4,
 "nbformat_minor": 2
}
